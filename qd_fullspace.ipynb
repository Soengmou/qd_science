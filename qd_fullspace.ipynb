{
 "cells": [
  {
   "cell_type": "code",
   "execution_count": 1,
   "metadata": {},
   "outputs": [],
   "source": [
    "import logging\n",
    "import numpy as np\n",
    "import matplotlib.pyplot as plt\n",
    "import tectosaur\n",
    "import tectosaur.mesh.mesh_gen\n",
    "from scipy.sparse.linalg import spsolve\n",
    "from tectosaur.mesh.combined_mesh import CombinedMesh\n",
    "from tectosaur.ops.mass_op import MassOp\n",
    "from tectosaur.ops.sparse_integral_op import SparseIntegralOp, FMMFarfieldBuilder\n",
    "from tectosaur.constraint_builders import free_edge_constraints\n",
    "from tectosaur.constraints import build_constraint_matrix"
   ]
  },
  {
   "cell_type": "code",
   "execution_count": 19,
   "metadata": {},
   "outputs": [],
   "source": [
    "sm = 3e10 # Pa\n",
    "pr = 0.25 \n",
    "density = 2700 # kg/m^3\n",
    "cfg = dict(\n",
    "    preconditioner = 'none',\n",
    "    quad_mass_order = 4,\n",
    "    quad_vertadj_order = 8,\n",
    "    quad_far_order = 3,\n",
    "    quad_near_order = 5,\n",
    "    quad_near_threshold = 2.5,\n",
    "    float_type = np.float32,\n",
    "    use_fmm = True,\n",
    "    fmm_order = 150,\n",
    "    fmm_mac = 3.0,\n",
    "    pts_per_cell = 450,\n",
    "    log_level = logging.INFO\n",
    ")\n",
    "\n",
    "def make_integral_op(m, k_name, k_params, cfg, name1, name2):\n",
    "    if cfg['use_fmm']:\n",
    "        farfield = FMMFarfieldBuilder(\n",
    "            cfg['fmm_order'], cfg['fmm_mac'], cfg['pts_per_cell']\n",
    "        )\n",
    "    else:\n",
    "        farfield = None\n",
    "    return SparseIntegralOp(\n",
    "        cfg['quad_vertadj_order'], cfg['quad_far_order'],\n",
    "        cfg['quad_near_order'], cfg['quad_near_threshold'],\n",
    "        k_name, k_params, m.pts, m.tris, cfg['float_type'],\n",
    "        farfield_op_type = farfield,\n",
    "        obs_subset = m.get_tri_idxs(name1),\n",
    "        src_subset = m.get_tri_idxs(name2)\n",
    "    )\n",
    "\n",
    "def make_mass_op(m, cfg):\n",
    "    return MassOp(cfg['quad_mass_order'], m.pts, m.tris)"
   ]
  },
  {
   "cell_type": "code",
   "execution_count": 3,
   "metadata": {},
   "outputs": [],
   "source": [
    "n_fault = 30\n",
    "L = 10 * 1000\n",
    "W = 10 * 1000\n",
    "fault_m = tectosaur.mesh.mesh_gen.make_rect(n_fault, n_fault, [\n",
    "    [-L, 0, W], [-L, 0, -W],\n",
    "    [L, 0, -W], [L, 0, W]\n",
    "])\n",
    "m = CombinedMesh.from_named_pieces([('fault', fault_m)])"
   ]
  },
  {
   "cell_type": "code",
   "execution_count": 4,
   "metadata": {},
   "outputs": [],
   "source": [
    "cs = free_edge_constraints(m.get_tris('fault'))\n",
    "cm, c_rhs = build_constraint_matrix(cs, m.n_dofs('fault'))"
   ]
  },
  {
   "cell_type": "code",
   "execution_count": 5,
   "metadata": {},
   "outputs": [],
   "source": [
    "constrained_slip = np.ones(cm.shape[1])\n",
    "slip1m = cm.dot(constrained_slip).reshape(-1,3)\n",
    "slip1m[:,1] = 0.0\n",
    "slip1m[:,2] = 0.0"
   ]
  },
  {
   "cell_type": "code",
   "execution_count": 6,
   "metadata": {},
   "outputs": [
    {
     "data": {
      "image/png": "[encoded data removed]",
      "text/plain": [
       "<matplotlib.figure.Figure at 0x7f4650db9240>"
      ]
     },
     "metadata": {},
     "output_type": "display_data"
    }
   ],
   "source": [
    "def plot_field(field, d):\n",
    "    plt.style.use('dark_background')\n",
    "    pt_field = np.empty(m.pts.shape)\n",
    "    pt_field[m.tris] = field.reshape(-1,3,3)\n",
    "    plt.figure(figsize = (10,10))\n",
    "    plt.tripcolor(m.pts[:,0], m.pts[:,2], m.tris, pt_field[:,d])\n",
    "    plt.colorbar()\n",
    "    plt.show()\n",
    "plot_field(slip1m, 0)"
   ]
  },
  {
   "cell_type": "code",
   "execution_count": 7,
   "metadata": {},
   "outputs": [
    {
     "name": "stdout",
     "output_type": "stream",
     "text": [
      "[1736:DEBUG:tectosaur.util.gpu]\n",
      "    start compiling nearfield/nearfield.cl\n",
      "[2773:INFO:tectosaur.util.cuda]\n",
      "    Initialized CUDA on gpu: 0\n",
      "[3297:DEBUG:tectosaur.util.gpu]\n",
      "    compile took 1.5600736141204834\n",
      "[3312:DEBUG:tectosaur.nearfield.nearfield_op]\n",
      "        setup pairs integrator took 1.6437914371490479\n",
      "[3346:DEBUG:tectosaur.nearfield.table_lookup]\n",
      "    coincident -- load table took 0.005948543548583984\n",
      "[3350:DEBUG:tectosaur.nearfield.table_lookup]\n",
      "    coincident -- get pts took 0.002450227737426758\n",
      "[3365:DEBUG:tectosaur.util.gpu]\n",
      "    start compiling nearfield/interpolate_kernel.cl\n",
      "[3618:DEBUG:tectosaur.util.gpu]\n",
      "    compile took 0.25276756286621094\n",
      "[3642:DEBUG:tectosaur.nearfield.table_lookup]\n",
      "    coincident -- interpolate took 0.2908809185028076\n",
      "[3646:DEBUG:tectosaur.nearfield.table_lookup]\n",
      "    coincident -- from standard took 0.00302886962890625\n",
      "[3647:DEBUG:tectosaur.nearfield.nearfield_op]\n",
      "        Coincident took 0.3341538906097412\n",
      "[3652:DEBUG:tectosaur.nearfield.nearfield_op]\n",
      "        Coincident correction took 0.0035142898559570312\n",
      "[3682:DEBUG:tectosaur.nearfield.nearfield_op]\n",
      "        Find nearfield/adjacency took 0.028213977813720703\n",
      "[3684:DEBUG:tectosaur.nearfield.table_lookup]\n",
      "    adjacent -- generate interp pts wts took 0.00047326087951660156\n",
      "[3686:DEBUG:tectosaur.nearfield.table_lookup]\n",
      "    adjacent -- load table took 0.0009675025939941406\n",
      "[3707:DEBUG:tectosaur.nearfield.table_lookup]\n",
      "    adjacent -- get pts took 0.019967079162597656\n",
      "[3716:DEBUG:tectosaur.util.gpu]\n",
      "    start compiling nearfield/interpolate_kernel.cl\n",
      "[3970:DEBUG:tectosaur.util.gpu]\n",
      "    compile took 0.25394296646118164\n",
      "[3979:DEBUG:tectosaur.nearfield.table_lookup]\n",
      "    adjacent -- interpolation took 0.2703897953033447\n",
      "[4014:DEBUG:tectosaur.nearfield.table_lookup]\n",
      "    adjacent -- from standard took 0.03434944152832031\n",
      "[4016:DEBUG:tectosaur.util.gpu]\n",
      "    returning cached gpu module nearfield/nearfield.cl\n",
      "[4325:DEBUG:tectosaur.nearfield.table_lookup]\n",
      "    adjacent -- vert adj subpairs took 0.3093869686126709\n",
      "[4400:DEBUG:tectosaur.nearfield.table_lookup]\n",
      "    adjacent -- vert adj subbasis took 0.07364320755004883\n",
      "[4402:DEBUG:tectosaur.nearfield.nearfield_op]\n",
      "        Edge adjacent took 0.7187354564666748\n",
      "[4406:DEBUG:tectosaur.nearfield.nearfield_op]\n",
      "        Edge adjacent correction took 0.0026192665100097656\n",
      "[4548:DEBUG:tectosaur.nearfield.nearfield_op]\n",
      "        Vert adjacent took 0.14141607284545898\n",
      "[4553:DEBUG:tectosaur.nearfield.nearfield_op]\n",
      "        Vert adjacent correction took 0.0039217472076416016\n",
      "[4603:DEBUG:tectosaur.nearfield.nearfield_op]\n",
      "        Nearfield took 0.048613786697387695\n",
      "[4636:DEBUG:tectosaur.nearfield.nearfield_op]\n",
      "        Nearfield correction took 0.03242349624633789\n",
      "[4661:DEBUG:tectosaur.nearfield.nearfield_op]\n",
      "        Assemble matrix took 0.023349523544311523\n",
      "[4662:DEBUG:tectosaur.nearfield.nearfield_op]\n",
      "        Assemble uncorrected matrix took 3.0279159545898438e-05\n",
      "[4733:DEBUG:tectosaur.util.gpu]\n",
      "    start compiling fmm/gpu_kernels.cl\n",
      "[4984:DEBUG:tectosaur.util.gpu]\n",
      "    compile took 0.2506523132324219\n",
      "[5211:DEBUG:tectosaur.fmm.builder]\n",
      "    compression factor: 0.7082085753579626\n",
      "[5212:DEBUG:tectosaur.fmm.builder]\n",
      "    # obs pts: 11774\n",
      "[5213:DEBUG:tectosaur.fmm.builder]\n",
      "    # src pts: 11774\n",
      "[5214:DEBUG:tectosaur.fmm.builder]\n",
      "    total tree interactions: 9.817688e+07\n",
      "[5215:DEBUG:tectosaur.fmm.builder]\n",
      "    total p2m interactions: 1.766100e+06\n",
      "[5216:DEBUG:tectosaur.fmm.builder]\n",
      "    total p2l interactions: 0.000000e+00\n",
      "[5217:DEBUG:tectosaur.fmm.builder]\n",
      "    total m2l interactions: 3.622500e+06\n",
      "[5218:DEBUG:tectosaur.fmm.builder]\n",
      "    total p2p interactions: 8.733218e+07\n",
      "[5219:DEBUG:tectosaur.fmm.builder]\n",
      "    total m2p interactions: 0.000000e+00\n",
      "[5220:DEBUG:tectosaur.fmm.builder]\n",
      "    total l2p interactions: 1.766100e+06\n",
      "[5221:DEBUG:tectosaur.fmm.builder]\n",
      "    total m2m interactions: 1.845000e+06\n",
      "[5222:DEBUG:tectosaur.fmm.builder]\n",
      "    total l2l interactions: 1.845000e+06\n"
     ]
    }
   ],
   "source": [
    "hypersingular_op = make_integral_op(m, 'elasticH3', [sm, pr], cfg, 'fault', 'fault')\n",
    "traction_mass_op = make_mass_op(m, cfg)"
   ]
  },
  {
   "cell_type": "code",
   "execution_count": 8,
   "metadata": {},
   "outputs": [],
   "source": [
    "plate_rate = 0.050 # 50 mm/yr\n",
    "dt = 0.01 # 0.01 yr/step"
   ]
  },
  {
   "cell_type": "code",
   "execution_count": 9,
   "metadata": {},
   "outputs": [],
   "source": [
    "cs = np.sqrt(sm / density)\n",
    "eta = sm / (2 * cs)"
   ]
  },
  {
   "cell_type": "code",
   "execution_count": null,
   "metadata": {},
   "outputs": [],
   "source": [
    "a = 0.015\n",
    "V0 = 1e-6\n",
    "b = 0.02\n",
    "Dc = 0.2\n",
    "f0 = 0.6\n",
    "kcrit = sigma_n * b / Dc\n",
    "print('k/kcrit =', k / kcrit)\n",
    "\n",
    "# Rate-state friction law w/ Rice et al 2001 regularization so that \n",
    "# it is valid at V = 0\n",
    "def F(V, sigma_n, state):\n",
    "    return a * sigma_n * np.arcsinh(V / (2 * V0) * np.exp(state / a))\n",
    "\n",
    "# State evolution law -- aging law.\n",
    "def G(V, state):\n",
    "    return (b * V0 / Dc) * (np.exp((f0 - state) / b) - (V / V0))"
   ]
  },
  {
   "cell_type": "code",
   "execution_count": 16,
   "metadata": {},
   "outputs": [
    {
     "name": "stdout",
     "output_type": "stream",
     "text": [
      "[81384:DEBUG:tectosaur.ops.sparse_integral_op]\n",
      "    start nearfield_dot\n",
      "[81412:DEBUG:tectosaur.ops.sparse_integral_op]\n",
      "    nearfield_dot took 0.02838611602783203\n",
      "[81414:DEBUG:tectosaur.ops.sparse_integral_op]\n",
      "    start farfield_dot\n",
      "[81416:DEBUG:tectosaur.ops.sparse_integral_op]\n",
      "    to tree space took 0.0004298686981201172\n",
      "[81489:DEBUG:tectosaur.ops.sparse_integral_op]\n",
      "    fmm eval took 0.0716254711151123\n",
      "[81491:DEBUG:tectosaur.ops.sparse_integral_op]\n",
      "    to output space took 0.0005996227264404297\n",
      "[81493:DEBUG:tectosaur.ops.sparse_integral_op]\n",
      "    farfield_dot took 0.07945561408996582\n"
     ]
    }
   ],
   "source": [
    "t = 0\n",
    "slip = np.zeros(slip1m.size)\n",
    "slip_vel = slip.copy()\n",
    "state = np.zeros(slip1m.shape[0])\n",
    "\n",
    "slip += dt * plate_rate * slip1m.reshape(-1)\n",
    "t += dt\n",
    "rhs = hypersingular_op.dot(slip)\n",
    "traction_static = spsolve(traction_mass_op.mat, -rhs)\n",
    "traction_qd = traction_static - eta * slip_vel\n",
    "\n",
    "# tau from friction law\n",
    "# slip += v * dt\n",
    "\n",
    "# then use the time-stepper to update"
   ]
  },
  {
   "cell_type": "code",
   "execution_count": 18,
   "metadata": {},
   "outputs": [
    {
     "data": {
      "text/plain": [
       "(15138,)"
      ]
     },
     "execution_count": 18,
     "metadata": {},
     "output_type": "execute_result"
    }
   ],
   "source": [
    "slip.shape"
   ]
  },
  {
   "cell_type": "code",
   "execution_count": null,
   "metadata": {},
   "outputs": [],
   "source": []
  }
 ],
 "metadata": {
  "kernelspec": {
   "display_name": "Python 3",
   "language": "python",
   "name": "python3"
  },
  "language_info": {
   "codemirror_mode": {
    "name": "ipython",
    "version": 3
   },
   "file_extension": ".py",
   "mimetype": "text/x-python",
   "name": "python",
   "nbconvert_exporter": "python",
   "pygments_lexer": "ipython3",
   "version": "3.6.0"
  }
 },
 "nbformat": 4,
 "nbformat_minor": 2
}
